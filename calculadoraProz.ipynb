{
  "nbformat": 4,
  "nbformat_minor": 0,
  "metadata": {
    "colab": {
      "provenance": [],
      "authorship_tag": "ABX9TyMIVSwbvlmpBbfKmcbwonbv",
      "include_colab_link": true
    },
    "kernelspec": {
      "name": "python3",
      "display_name": "Python 3"
    },
    "language_info": {
      "name": "python"
    }
  },
  "cells": [
    {
      "cell_type": "markdown",
      "metadata": {
        "id": "view-in-github",
        "colab_type": "text"
      },
      "source": [
        "<a href=\"https://colab.research.google.com/github/RobsonGodoi4/Project001/blob/main/calculadoraProz.ipynb\" target=\"_parent\"><img src=\"https://colab.research.google.com/assets/colab-badge.svg\" alt=\"Open In Colab\"/></a>"
      ]
    },
    {
      "cell_type": "code",
      "execution_count": null,
      "metadata": {
        "id": "AkvPYDkVckUy"
      },
      "outputs": [],
      "source": [
        "def calculadora():\n",
        "  while True:\n",
        "\n",
        "    print(\"\\nBem vindo a Calculadora Python!\")\n",
        "\n",
        "    print(\"Digite o primeiro número: \")\n",
        "    num1 = int(input())\n",
        "    print(\"digite o segundo número: \")\n",
        "    num2 = int(input())\n",
        "    print(\"escolha a opção desejada:\")\n",
        "    print(\"1 - soma\")\n",
        "    print(\"2 - subtração\")\n",
        "    print(\"3 - multiplicação\")\n",
        "    print(\"4 - divisão\")\n",
        "    print(\"0 - sair\")\n",
        "    opcao = int(input())\n",
        "\n",
        "    if opcao == 0:\n",
        "      print(\"Encerrando calculadora. Até mais!\")\n",
        "      break\n",
        "    elif opcao == 1:\n",
        "      print(\"O resultado da operação\", num1 ,\"+\", num2, \"é igual a: \", num1 + num2)\n",
        "    elif opcao == 2:\n",
        "      print(\"O resultado da operação\", num1 ,\"-\", num2, \"é igual a: \", num1 - num2)\n",
        "\n",
        "    elif opcao == 3:\n",
        "      print(\"O resultado da operação\", num1 ,\"*\", num2, \"é igual a: \", num1 * num2)\n",
        "\n",
        "    elif opcao == 4:\n",
        "      print(\"O resultado da operação\", num1 ,\"/\", num2, \"é igual a: \", num1 / num2)\n",
        "\n",
        "    else:\n",
        "      print(\"Opção incorreta. Tente novamente.\")\n",
        "    break\n",
        "calculadora()"
      ]
    }
  ]
}